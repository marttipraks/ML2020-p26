{
 "cells": [
  {
   "cell_type": "code",
   "execution_count": 36,
   "metadata": {},
   "outputs": [],
   "source": [
    "import pandas as pd\n",
    "import matplotlib.pyplot as plt\n",
    "import numpy as np\n",
    "import datetime as dt\n",
    "import sklearn\n",
    "from sklearn.decomposition import PCA\n",
    "from sklearn.metrics import r2_score"
   ]
  },
  {
   "cell_type": "code",
   "execution_count": 21,
   "metadata": {},
   "outputs": [],
   "source": [
    "train = pd.read_csv('Train_Plant2_added_features_min_max.csv')"
   ]
  },
  {
   "cell_type": "code",
   "execution_count": 22,
   "metadata": {},
   "outputs": [],
   "source": [
    "train['DATE_TIME'] = pd.to_datetime(train['DATE_TIME'])\n",
    "train[\"HOUR\"] = train['DATE_TIME'].dt.hour\n",
    "train[\"MINUTE\"] = train['DATE_TIME'].dt.minute\n",
    "train[\"DAY_OF_YEAR\"] = train['DATE_TIME'].dt.dayofyear\n",
    "train[\"NIGHT\"] = [1 if i == 0 else 1 for i in train['IRRADIATION']]\n",
    "#'DC_POWER_PER_INVERTER_DAY_SHIFT_MINUS_1'"
   ]
  },
  {
   "cell_type": "code",
   "execution_count": 23,
   "metadata": {},
   "outputs": [],
   "source": [
    " train_columns = [\n",
    "        'HOUR',\n",
    "       'MINUTE',\n",
    "       'DAY_OF_YEAR',\n",
    "       'NIGHT',\n",
    "       'AMBIENT_TEMPERATURE_PER_INVERTER_DAY_SHIFT_MINUS_1',\n",
    "       'MODULE_TEMPERATURE_PER_INVERTER_DAY_SHIFT_MINUS_1',\n",
    "       'IRRADIATION_PER_INVERTER_DAY_SHIFT_MINUS_1',\n",
    "       'DC_POWER_PER_INVERTER_DAY_SHIFT_MINUS_1',\n",
    "       'DC_POWER_PER_INVERTER_DAY_SHIFT_MINUS_2',\n",
    "       'AC_POWER_PER_INVERTER_DAY_SHIFT_MINUS_2',\n",
    "       'AMBIENT_TEMPERATURE_PER_INVERTER_DAY_SHIFT_MINUS_2',\n",
    "       'MODULE_TEMPERATURE_PER_INVERTER_DAY_SHIFT_MINUS_2',\n",
    "       'IRRADIATION_PER_INVERTER_DAY_SHIFT_MINUS_2',\n",
    "       'DC_POWER_PER_INVERTER_DAY_SHIFT_MINUS_3',\n",
    "       'AC_POWER_PER_INVERTER_DAY_SHIFT_MINUS_3',\n",
    "       'AMBIENT_TEMPERATURE_PER_INVERTER_DAY_SHIFT_MINUS_3',\n",
    "       'MODULE_TEMPERATURE_PER_INVERTER_DAY_SHIFT_MINUS_3',\n",
    "       'IRRADIATION_PER_INVERTER_DAY_SHIFT_MINUS_3']"
   ]
  },
  {
   "cell_type": "code",
   "execution_count": 24,
   "metadata": {},
   "outputs": [],
   "source": [
    "train = train[train['ARTIFICIAL']==0]\n",
    "y_train = train['DC_POWER']"
   ]
  },
  {
   "cell_type": "code",
   "execution_count": 25,
   "metadata": {},
   "outputs": [
    {
     "name": "stdout",
     "output_type": "stream",
     "text": [
      "n_components 5\n"
     ]
    }
   ],
   "source": [
    "train = train[train_columns]\n",
    "pca = PCA(n_components=0.99)\n",
    "pca.fit(train)\n",
    "print('n_components',pca.n_components_)\n",
    "X_train = pca.transform(train)"
   ]
  },
  {
   "cell_type": "code",
   "execution_count": 26,
   "metadata": {},
   "outputs": [],
   "source": [
    "from sklearn.ensemble import RandomForestRegressor\n",
    "from sklearn.model_selection import GridSearchCV\n",
    "\n",
    "#rf.fit(X_train,y_train)"
   ]
  },
  {
   "cell_type": "code",
   "execution_count": 27,
   "metadata": {},
   "outputs": [],
   "source": [
    "#param_grid = {'max_depth':[2,3,4,5], 'n_estimators':[50,100,150]}\n",
    "#grd_srch = GridSearchCV(estimator=RandomForestRegressor(), param_grid=param_grid,\n",
    "#                       scoring='neg_root_mean_squared_error')\n",
    "#grd_srch.fit(X_train,y_train)\n",
    "#This takes something like 15 mins to run, but grid search showed best parameter was max depth 4 n_estimators 100"
   ]
  },
  {
   "cell_type": "code",
   "execution_count": null,
   "metadata": {},
   "outputs": [],
   "source": [
    "#best_params = grd_srch.best_params_\n",
    "#best_params"
   ]
  },
  {
   "cell_type": "code",
   "execution_count": 29,
   "metadata": {},
   "outputs": [
    {
     "data": {
      "text/plain": [
       "RandomForestRegressor(n_estimators=200)"
      ]
     },
     "execution_count": 29,
     "metadata": {},
     "output_type": "execute_result"
    }
   ],
   "source": [
    "rf = RandomForestRegressor(n_estimators=200)\n",
    "rf.fit(X_train, y_train)"
   ]
  },
  {
   "cell_type": "code",
   "execution_count": 30,
   "metadata": {},
   "outputs": [
    {
     "data": {
      "text/plain": [
       "array([0.05121423, 0.1103082 , 0.14026135, 0.54983616, 0.14838006])"
      ]
     },
     "execution_count": 30,
     "metadata": {},
     "output_type": "execute_result"
    }
   ],
   "source": [
    "rf.feature_importances_"
   ]
  },
  {
   "cell_type": "code",
   "execution_count": 31,
   "metadata": {},
   "outputs": [],
   "source": [
    "test = pd.read_csv('Test_Plant2_added_features_min_max.csv')"
   ]
  },
  {
   "cell_type": "code",
   "execution_count": 32,
   "metadata": {},
   "outputs": [],
   "source": [
    "test['DATE_TIME'] = pd.to_datetime(test['DATE_TIME'])\n",
    "test[\"HOUR\"] = test['DATE_TIME'].dt.hour\n",
    "test[\"MINUTE\"] = test['DATE_TIME'].dt.minute\n",
    "test[\"DAY_OF_YEAR\"] = test['DATE_TIME'].dt.dayofyear\n",
    "test[\"NIGHT\"] = [1 if i == 0 else 1 for i in test['IRRADIATION']]"
   ]
  },
  {
   "cell_type": "code",
   "execution_count": 33,
   "metadata": {},
   "outputs": [],
   "source": [
    "X_test = test[train_columns]\n",
    "X_test = pca.transform(X_test)\n",
    "y_test = test['DC_POWER']"
   ]
  },
  {
   "cell_type": "code",
   "execution_count": 34,
   "metadata": {},
   "outputs": [
    {
     "data": {
      "text/plain": [
       "1144.4770595238085"
      ]
     },
     "execution_count": 34,
     "metadata": {},
     "output_type": "execute_result"
    }
   ],
   "source": [
    "predictions = rf.predict(X_test)\n",
    "np.max(predictions)"
   ]
  },
  {
   "cell_type": "code",
   "execution_count": 37,
   "metadata": {},
   "outputs": [
    {
     "name": "stdout",
     "output_type": "stream",
     "text": [
      "RMSE 206.50064124141227\n",
      "MAE 110.18173688753132\n",
      "R2 0.4893069584854344\n"
     ]
    }
   ],
   "source": [
    "#from sklearn.metrics import mean_squared_error\n",
    "print('RMSE', np.mean((y_test-predictions)**2)**0.5)\n",
    "print('MAE', np.mean(np.abs(y_test-predictions)))\n",
    "print('R2', r2_score(y_test, predictions))"
   ]
  },
  {
   "cell_type": "code",
   "execution_count": 38,
   "metadata": {},
   "outputs": [
    {
     "name": "stdout",
     "output_type": "stream",
     "text": [
      "200.09552251055447\n",
      "233.25328951253343\n"
     ]
    }
   ],
   "source": [
    "print(np.mean(y_test))\n",
    "print(np.mean(predictions))"
   ]
  },
  {
   "cell_type": "code",
   "execution_count": 39,
   "metadata": {},
   "outputs": [
    {
     "data": {
      "text/plain": [
       "[<matplotlib.lines.Line2D at 0x120f030>]"
      ]
     },
     "execution_count": 39,
     "metadata": {},
     "output_type": "execute_result"
    },
    {
     "data": {
      "image/png": "[encoded data removed]",
      "text/plain": [
       "<Figure size 432x288 with 1 Axes>"
      ]
     },
     "metadata": {
      "needs_background": "light"
     },
     "output_type": "display_data"
    }
   ],
   "source": [
    "plt.figure()\n",
    "plt.plot(y_test)\n",
    "plt.plot(predictions)"
   ]
  },
  {
   "cell_type": "code",
   "execution_count": 40,
   "metadata": {},
   "outputs": [
    {
     "data": {
      "text/plain": [
       "171.3573301778671"
      ]
     },
     "execution_count": 40,
     "metadata": {},
     "output_type": "execute_result"
    }
   ],
   "source": [
    "np.mean((y_test[10000:]-predictions[10000:])**2)**0.5"
   ]
  },
  {
   "cell_type": "code",
   "execution_count": 41,
   "metadata": {},
   "outputs": [],
   "source": [
    "test['PREDICTIONS']=predictions"
   ]
  },
  {
   "cell_type": "code",
   "execution_count": 42,
   "metadata": {},
   "outputs": [],
   "source": [
    "daily_y_test = test.groupby('DAY_OF_YEAR').sum()['DC_POWER']\n",
    "daily_predictions = test.groupby('DAY_OF_YEAR').sum()['PREDICTIONS']"
   ]
  },
  {
   "cell_type": "code",
   "execution_count": 43,
   "metadata": {},
   "outputs": [
    {
     "name": "stdout",
     "output_type": "stream",
     "text": [
      "RMSE 94247.1174035946\n",
      "MAE 81524.63869723486\n",
      "R2 -2.436739287505514\n"
     ]
    }
   ],
   "source": [
    "print('RMSE', np.mean((daily_y_test-daily_predictions)**2)**0.5)\n",
    "print('MAE', np.mean(np.abs(daily_y_test-daily_predictions)))\n",
    "print('R2', r2_score(daily_y_test, daily_predictions))"
   ]
  },
  {
   "cell_type": "code",
   "execution_count": null,
   "metadata": {},
   "outputs": [],
   "source": []
  }
 ],
 "metadata": {
  "kernelspec": {
   "display_name": "Python 3",
   "language": "python",
   "name": "python3"
  },
  "language_info": {
   "codemirror_mode": {
    "name": "ipython",
    "version": 3
   },
   "file_extension": ".py",
   "mimetype": "text/x-python",
   "name": "python",
   "nbconvert_exporter": "python",
   "pygments_lexer": "ipython3",
   "version": "3.6.0"
  }
 },
 "nbformat": 4,
 "nbformat_minor": 2
}
