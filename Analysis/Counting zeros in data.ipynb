{
 "cells": [
  {
   "cell_type": "code",
   "execution_count": 154,
   "metadata": {},
   "outputs": [],
   "source": [
    "import numpy as np\n",
    "import pandas as pd\n",
    "import datetime"
   ]
  },
  {
   "cell_type": "code",
   "execution_count": 155,
   "metadata": {},
   "outputs": [],
   "source": [
    "p1_gen = pd.read_csv(\"Plant_1/Plant_1_Generation_Data.csv\")\n",
    "p1_weath = pd.read_csv(\"Plant_1/Plant_1_Weather_Sensor_Data.csv\")\n",
    "\n",
    "p2_gen = pd.read_csv(\"Plant_2/Plant_2_Generation_Data.csv\")\n",
    "p2_weath = pd.read_csv(\"Plant_2/Plant_2_Weather_Sensor_Data.csv\")"
   ]
  },
  {
   "cell_type": "code",
   "execution_count": 151,
   "metadata": {},
   "outputs": [
    {
     "name": "stdout",
     "output_type": "stream",
     "text": [
      "2146\n"
     ]
    }
   ],
   "source": [
    "# CONTROL - all dates are present\n",
    "dff = df_2g\n",
    "dff['DATE'] = pd.to_datetime(dff['DATE_TIME'], format=\"%d-%m-%Y %H:%M\").dt.time\n",
    "#print(dff['DATE'].value_counts()) # 49 of different measured time moments\n",
    "# count how many rows are missing\n",
    "print(49*748 - dff['DATE'].value_counts().sum()) # if generation\n",
    "#print(49*34 - dff['DATE'].value_counts().sum()) #if weather"
   ]
  },
  {
   "cell_type": "code",
   "execution_count": 4,
   "metadata": {},
   "outputs": [],
   "source": [
    "#dff[ (dff['DATE_TIME'].dt.date == datetime.date(2020, 10,6) )]"
   ]
  },
  {
   "cell_type": "code",
   "execution_count": 156,
   "metadata": {},
   "outputs": [],
   "source": [
    "for df in [p1_gen]:\n",
    "    df['DATE_TIME'] = pd.to_datetime(df['DATE_TIME'], format=\"%d-%m-%Y %H:%M\")\n",
    "    \n",
    "for df in [p1_weath, p2_gen, p2_weath]:\n",
    "    df['DATE_TIME'] = pd.to_datetime(df['DATE_TIME'], format=\"%Y-%m-%d %H:%M:%S\")"
   ]
  },
  {
   "cell_type": "code",
   "execution_count": 157,
   "metadata": {},
   "outputs": [],
   "source": [
    "df_1g = p1_gen.copy()\n",
    "df_1w = p1_weath.copy()\n",
    "df_2g = p2_gen.copy()\n",
    "df_2w = p2_weath.copy()\n",
    "\n",
    "#for df in [df_1g, df_1w, df_2g, df_2w]:\n",
    "df_1g = df_1g[ (df_1g['DATE_TIME'].dt.time >= datetime.time(6, 0) ) & (df_1g['DATE_TIME'].dt.time <= datetime.time(18, 0)) ]\n",
    "df_1w = df_1w[ (df_1w['DATE_TIME'].dt.time >= datetime.time(6, 0) ) & (df_1w['DATE_TIME'].dt.time <= datetime.time(18, 0)) ]\n",
    "\n",
    "df_2g = df_2g[ (df_2g['DATE_TIME'].dt.time >= datetime.time(6, 0) ) & (df_2g['DATE_TIME'].dt.time <= datetime.time(18, 0)) ]\n",
    "df_2w = df_2w[ (df_2w['DATE_TIME'].dt.time >= datetime.time(6, 0) ) & (df_2w['DATE_TIME'].dt.time <= datetime.time(18, 0)) ]"
   ]
  },
  {
   "cell_type": "code",
   "execution_count": 158,
   "metadata": {},
   "outputs": [
    {
     "data": {
      "text/html": [
       "<div>\n",
       "<style scoped>\n",
       "    .dataframe tbody tr th:only-of-type {\n",
       "        vertical-align: middle;\n",
       "    }\n",
       "\n",
       "    .dataframe tbody tr th {\n",
       "        vertical-align: top;\n",
       "    }\n",
       "\n",
       "    .dataframe thead th {\n",
       "        text-align: right;\n",
       "    }\n",
       "</style>\n",
       "<table border=\"1\" class=\"dataframe\">\n",
       "  <thead>\n",
       "    <tr style=\"text-align: right;\">\n",
       "      <th></th>\n",
       "      <th>DATE_TIME</th>\n",
       "      <th>PLANT_ID</th>\n",
       "      <th>SOURCE_KEY</th>\n",
       "      <th>DC_POWER</th>\n",
       "      <th>AC_POWER</th>\n",
       "      <th>DAILY_YIELD</th>\n",
       "      <th>TOTAL_YIELD</th>\n",
       "    </tr>\n",
       "  </thead>\n",
       "  <tbody>\n",
       "    <tr>\n",
       "      <th>0</th>\n",
       "      <td>2020-05-15 00:00:00</td>\n",
       "      <td>4135001</td>\n",
       "      <td>1BY6WEcLGh8j5v7</td>\n",
       "      <td>0.0</td>\n",
       "      <td>0.0</td>\n",
       "      <td>0.000</td>\n",
       "      <td>6259559.0</td>\n",
       "    </tr>\n",
       "    <tr>\n",
       "      <th>1</th>\n",
       "      <td>2020-05-15 00:00:00</td>\n",
       "      <td>4135001</td>\n",
       "      <td>1IF53ai7Xc0U56Y</td>\n",
       "      <td>0.0</td>\n",
       "      <td>0.0</td>\n",
       "      <td>0.000</td>\n",
       "      <td>6183645.0</td>\n",
       "    </tr>\n",
       "    <tr>\n",
       "      <th>2</th>\n",
       "      <td>2020-05-15 00:00:00</td>\n",
       "      <td>4135001</td>\n",
       "      <td>3PZuoBAID5Wc2HD</td>\n",
       "      <td>0.0</td>\n",
       "      <td>0.0</td>\n",
       "      <td>0.000</td>\n",
       "      <td>6987759.0</td>\n",
       "    </tr>\n",
       "    <tr>\n",
       "      <th>3</th>\n",
       "      <td>2020-05-15 00:00:00</td>\n",
       "      <td>4135001</td>\n",
       "      <td>7JYdWkrLSPkdwr4</td>\n",
       "      <td>0.0</td>\n",
       "      <td>0.0</td>\n",
       "      <td>0.000</td>\n",
       "      <td>7602960.0</td>\n",
       "    </tr>\n",
       "    <tr>\n",
       "      <th>4</th>\n",
       "      <td>2020-05-15 00:00:00</td>\n",
       "      <td>4135001</td>\n",
       "      <td>McdE0feGgRqW7Ca</td>\n",
       "      <td>0.0</td>\n",
       "      <td>0.0</td>\n",
       "      <td>0.000</td>\n",
       "      <td>7158964.0</td>\n",
       "    </tr>\n",
       "    <tr>\n",
       "      <th>...</th>\n",
       "      <td>...</td>\n",
       "      <td>...</td>\n",
       "      <td>...</td>\n",
       "      <td>...</td>\n",
       "      <td>...</td>\n",
       "      <td>...</td>\n",
       "      <td>...</td>\n",
       "    </tr>\n",
       "    <tr>\n",
       "      <th>68773</th>\n",
       "      <td>2020-06-17 23:45:00</td>\n",
       "      <td>4135001</td>\n",
       "      <td>uHbuxQJl8lW7ozc</td>\n",
       "      <td>0.0</td>\n",
       "      <td>0.0</td>\n",
       "      <td>5967.000</td>\n",
       "      <td>7287002.0</td>\n",
       "    </tr>\n",
       "    <tr>\n",
       "      <th>68774</th>\n",
       "      <td>2020-06-17 23:45:00</td>\n",
       "      <td>4135001</td>\n",
       "      <td>wCURE6d3bPkepu2</td>\n",
       "      <td>0.0</td>\n",
       "      <td>0.0</td>\n",
       "      <td>5147.625</td>\n",
       "      <td>7028601.0</td>\n",
       "    </tr>\n",
       "    <tr>\n",
       "      <th>68775</th>\n",
       "      <td>2020-06-17 23:45:00</td>\n",
       "      <td>4135001</td>\n",
       "      <td>z9Y9gH1T5YWrNuG</td>\n",
       "      <td>0.0</td>\n",
       "      <td>0.0</td>\n",
       "      <td>5819.000</td>\n",
       "      <td>7251204.0</td>\n",
       "    </tr>\n",
       "    <tr>\n",
       "      <th>68776</th>\n",
       "      <td>2020-06-17 23:45:00</td>\n",
       "      <td>4135001</td>\n",
       "      <td>zBIq5rxdHJRwDNY</td>\n",
       "      <td>0.0</td>\n",
       "      <td>0.0</td>\n",
       "      <td>5817.000</td>\n",
       "      <td>6583369.0</td>\n",
       "    </tr>\n",
       "    <tr>\n",
       "      <th>68777</th>\n",
       "      <td>2020-06-17 23:45:00</td>\n",
       "      <td>4135001</td>\n",
       "      <td>zVJPv84UY57bAof</td>\n",
       "      <td>0.0</td>\n",
       "      <td>0.0</td>\n",
       "      <td>5910.000</td>\n",
       "      <td>7363272.0</td>\n",
       "    </tr>\n",
       "  </tbody>\n",
       "</table>\n",
       "<p>68778 rows × 7 columns</p>\n",
       "</div>"
      ],
      "text/plain": [
       "                DATE_TIME  PLANT_ID       SOURCE_KEY  DC_POWER  AC_POWER  \\\n",
       "0     2020-05-15 00:00:00   4135001  1BY6WEcLGh8j5v7       0.0       0.0   \n",
       "1     2020-05-15 00:00:00   4135001  1IF53ai7Xc0U56Y       0.0       0.0   \n",
       "2     2020-05-15 00:00:00   4135001  3PZuoBAID5Wc2HD       0.0       0.0   \n",
       "3     2020-05-15 00:00:00   4135001  7JYdWkrLSPkdwr4       0.0       0.0   \n",
       "4     2020-05-15 00:00:00   4135001  McdE0feGgRqW7Ca       0.0       0.0   \n",
       "...                   ...       ...              ...       ...       ...   \n",
       "68773 2020-06-17 23:45:00   4135001  uHbuxQJl8lW7ozc       0.0       0.0   \n",
       "68774 2020-06-17 23:45:00   4135001  wCURE6d3bPkepu2       0.0       0.0   \n",
       "68775 2020-06-17 23:45:00   4135001  z9Y9gH1T5YWrNuG       0.0       0.0   \n",
       "68776 2020-06-17 23:45:00   4135001  zBIq5rxdHJRwDNY       0.0       0.0   \n",
       "68777 2020-06-17 23:45:00   4135001  zVJPv84UY57bAof       0.0       0.0   \n",
       "\n",
       "       DAILY_YIELD  TOTAL_YIELD  \n",
       "0            0.000    6259559.0  \n",
       "1            0.000    6183645.0  \n",
       "2            0.000    6987759.0  \n",
       "3            0.000    7602960.0  \n",
       "4            0.000    7158964.0  \n",
       "...            ...          ...  \n",
       "68773     5967.000    7287002.0  \n",
       "68774     5147.625    7028601.0  \n",
       "68775     5819.000    7251204.0  \n",
       "68776     5817.000    6583369.0  \n",
       "68777     5910.000    7363272.0  \n",
       "\n",
       "[68778 rows x 7 columns]"
      ]
     },
     "execution_count": 158,
     "metadata": {},
     "output_type": "execute_result"
    }
   ],
   "source": [
    "p1_gen"
   ]
  },
  {
   "cell_type": "markdown",
   "metadata": {},
   "source": [
    "GENERATION DATA SHOULD BE 71 808 ROWS!!  (4x24x34x22)\n",
    "Plant 1 generation - 68 778 (missing 3030)\n",
    "daytime: 764\n",
    "Plant 2 generation - 67 698 (missing 4110)\n",
    "daytime: 2146"
   ]
  },
  {
   "cell_type": "markdown",
   "metadata": {},
   "source": [
    "WEATHER DATA SHOULD BE 3264 ROWS!!  (4x24x34)\n",
    "Plant 1 weather - 3182 (missing 82)\n",
    "daytime: 31\n",
    "Plant 2 weather - 3259 (missing 5)\n",
    "daytime: 4"
   ]
  },
  {
   "cell_type": "markdown",
   "metadata": {},
   "source": [
    "# ON ALL DATA (including night-time)"
   ]
  },
  {
   "cell_type": "code",
   "execution_count": 165,
   "metadata": {},
   "outputs": [],
   "source": [
    "# p1_gen, p1_weath, p2_gen, p2_weath\n",
    "\n",
    "dc = []\n",
    "\n",
    "gen_zeros = []\n",
    "for df in [p1_gen, p2_gen]:\n",
    "    DC = (df['DC_POWER'] > 0).sum()\n",
    "    AC = (df['AC_POWER'] > 0).sum()\n",
    "    DY = (df['DAILY_YIELD'] > 0).sum()\n",
    "    TY = (df['TOTAL_YIELD'] > 0).sum()\n",
    "    nonzeros = DC + AC + DY + TY\n",
    "    zeros = len(df)*4 - nonzeros\n",
    "    gen_zeros.append(zeros)\n",
    "    dc.append( len(df) - DC )\n",
    "    \n",
    "gen_zeros[0] = gen_zeros[0] + 3030*4\n",
    "gen_zeros[1] = gen_zeros[1] + 4110*4\n",
    "dc[0] = dc[0] + 3030\n",
    "dc[1] = dc[1] + 4110\n",
    "    \n",
    "weath_zeros = []\n",
    "for df in [p1_weath, p2_weath]:\n",
    "    amb = (df['AMBIENT_TEMPERATURE'] > 0).sum()\n",
    "    mod = (df['MODULE_TEMPERATURE'] > 0).sum()\n",
    "    irr = (df['IRRADIATION'] > 0).sum()\n",
    "    nonzeros = amb + mod + irr\n",
    "    zeros = len(df)*3 - nonzeros\n",
    "    weath_zeros.append(zeros)\n",
    "    \n",
    "weath_zeros[0] = weath_zeros[0] + 82*3\n",
    "weath_zeros[1] = weath_zeros[1] + 5*3"
   ]
  },
  {
   "cell_type": "code",
   "execution_count": 166,
   "metadata": {},
   "outputs": [
    {
     "name": "stdout",
     "output_type": "stream",
     "text": [
      "[34981, 39772]\n",
      "0.4871462789661319\n",
      "0.5538658645276292\n",
      "[94718, 99896]\n",
      "[1671, 1412]\n",
      "0.3245158640379229\n",
      "0.34107681534152123\n"
     ]
    }
   ],
   "source": [
    "print(dc)\n",
    "print(dc[0]/71808)\n",
    "print(dc[1]/71808)\n",
    "\n",
    "print(gen_zeros)\n",
    "print(weath_zeros)\n",
    "print((gen_zeros[0]+weath_zeros[0])/(71808*4+3264*3))\n",
    "print((gen_zeros[1]+weath_zeros[1])/(71808*4+3264*3))"
   ]
  },
  {
   "cell_type": "code",
   "execution_count": 167,
   "metadata": {},
   "outputs": [],
   "source": [
    "#p1_gen[p1_gen['DC_POWER']>0]['DC_POWER'].size #ON VÕRDNE SELLEGA (p1_gen['DC_POWER'] > 0).sum()"
   ]
  },
  {
   "cell_type": "markdown",
   "metadata": {},
   "source": [
    "# ON ONLY DAYTIME DATA"
   ]
  },
  {
   "cell_type": "code",
   "execution_count": 162,
   "metadata": {},
   "outputs": [],
   "source": [
    "dc = []\n",
    "\n",
    "gen_zeros = []\n",
    "for df in [df_1g, df_2g]:\n",
    "    DC = (df['DC_POWER'] > 0).sum()\n",
    "    AC = (df['AC_POWER'] > 0).sum()\n",
    "    DY = (df['DAILY_YIELD'] > 0).sum()\n",
    "    TY = (df['TOTAL_YIELD'] > 0).sum()\n",
    "    nonzeros = DC + AC + DY + TY\n",
    "    zeros = len(df)*4 - nonzeros\n",
    "    gen_zeros.append(zeros)\n",
    "    dc.append( len(df)-DC )\n",
    "\n",
    "gen_zeros[0] = gen_zeros[0] + 764*4\n",
    "gen_zeros[1] = gen_zeros[1] + 2146*4\n",
    "dc[0] = dc[0] + 764\n",
    "dc[1] = dc[1] + 2146\n",
    "\n",
    "weath_zeros = []\n",
    "for df in [df_1w, df_2w]:\n",
    "    amb = (df['AMBIENT_TEMPERATURE'] > 0).sum()\n",
    "    mod = (df['MODULE_TEMPERATURE'] > 0).sum()\n",
    "    irr = (df['IRRADIATION'] > 0).sum()\n",
    "    nonzeros = amb + mod + irr\n",
    "    zeros = len(df)*3 - nonzeros\n",
    "    weath_zeros.append(zeros)\n",
    "    \n",
    "weath_zeros[0] = weath_zeros[0] + 31*3\n",
    "weath_zeros[1] = weath_zeros[1] + 4*3"
   ]
  },
  {
   "cell_type": "code",
   "execution_count": 164,
   "metadata": {},
   "outputs": [
    {
     "name": "stdout",
     "output_type": "stream",
     "text": [
      "DC\n",
      "[981, 6149]\n",
      "0.02676525155516752\n",
      "0.1677671068427371\n",
      "ALL\n",
      "[3765, 17738]\n",
      "[93, 13]\n",
      "0.02544754165402425\n",
      "0.11708639499755946\n"
     ]
    }
   ],
   "source": [
    "print('DC')\n",
    "print(dc)\n",
    "print(dc[0]/( len(df_1g)+764) )\n",
    "print(dc[1]/( len(df_2g)+2146) )\n",
    "\n",
    "print('ALL')\n",
    "print(gen_zeros)\n",
    "print(weath_zeros)\n",
    "print((gen_zeros[0]+weath_zeros[0])/( (len(df_1g)+764)*4 + (len(df_1w)+31)*3 ))\n",
    "print((gen_zeros[1]+weath_zeros[1])/( (len(df_2g)+2146)*4 + (len(df_2w)+4)*3 ))"
   ]
  },
  {
   "cell_type": "markdown",
   "metadata": {},
   "source": [
    "##### Plant 1 zeros\n",
    "Gen = 709, all = 143 552\n",
    "\n",
    "Weather = 0, all = 4905\n",
    "\n",
    "Together = 709/148 457 = 0.005 -> 0.5%\n",
    "\n",
    "DC = 217/35 888 = 0.006 -> 0.6% (217/709 -> 30% from all missing values)\n",
    "\n",
    "##### Plant 2 zeros\n",
    "Gen = 9154, all = 138 024\n",
    "\n",
    "Weather = 1, all = 4986\n",
    "\n",
    "Together = 9155/143 010 = 0.064 -> 6.4%\n",
    "\n",
    "DC = 4003/34 506 = 0.116 -> 11.6 or 12% (4003/9154 -> 44% of all missing values)"
   ]
  }
 ],
 "metadata": {
  "kernelspec": {
   "display_name": "Python 3",
   "language": "python",
   "name": "python3"
  },
  "language_info": {
   "codemirror_mode": {
    "name": "ipython",
    "version": 3
   },
   "file_extension": ".py",
   "mimetype": "text/x-python",
   "name": "python",
   "nbconvert_exporter": "python",
   "pygments_lexer": "ipython3",
   "version": "3.8.3"
  }
 },
 "nbformat": 4,
 "nbformat_minor": 4
}
