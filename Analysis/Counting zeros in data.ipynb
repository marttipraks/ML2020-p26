{
 "cells": [
  {
   "cell_type": "code",
   "execution_count": 1,
   "metadata": {},
   "outputs": [],
   "source": [
    "import numpy as np\n",
    "import pandas as pd\n",
    "import datetime"
   ]
  },
  {
   "cell_type": "code",
   "execution_count": 2,
   "metadata": {},
   "outputs": [],
   "source": [
    "p1_gen = pd.read_csv(\"Plant_1/Plant_1_Generation_Data.csv\")\n",
    "p1_weath = pd.read_csv(\"Plant_1/Plant_1_Weather_Sensor_Data.csv\")\n",
    "\n",
    "p2_gen = pd.read_csv(\"Plant_2/Plant_2_Generation_Data.csv\")\n",
    "p2_weath = pd.read_csv(\"Plant_2/Plant_2_Weather_Sensor_Data.csv\")"
   ]
  },
  {
   "cell_type": "code",
   "execution_count": 3,
   "metadata": {},
   "outputs": [
    {
     "name": "stdout",
     "output_type": "stream",
     "text": [
      "[datetime.date(2020, 5, 15) datetime.date(2020, 5, 16)\n",
      " datetime.date(2020, 5, 17) datetime.date(2020, 5, 18)\n",
      " datetime.date(2020, 5, 19) datetime.date(2020, 5, 20)\n",
      " datetime.date(2020, 5, 21) datetime.date(2020, 5, 22)\n",
      " datetime.date(2020, 5, 23) datetime.date(2020, 5, 24)\n",
      " datetime.date(2020, 5, 25) datetime.date(2020, 5, 26)\n",
      " datetime.date(2020, 5, 27) datetime.date(2020, 5, 28)\n",
      " datetime.date(2020, 5, 29) datetime.date(2020, 5, 30)\n",
      " datetime.date(2020, 5, 31) datetime.date(2020, 6, 1)\n",
      " datetime.date(2020, 6, 2) datetime.date(2020, 6, 3)\n",
      " datetime.date(2020, 6, 4) datetime.date(2020, 6, 5)\n",
      " datetime.date(2020, 6, 6) datetime.date(2020, 6, 7)\n",
      " datetime.date(2020, 6, 8) datetime.date(2020, 6, 9)\n",
      " datetime.date(2020, 6, 10) datetime.date(2020, 6, 11)\n",
      " datetime.date(2020, 6, 12) datetime.date(2020, 6, 13)\n",
      " datetime.date(2020, 6, 14) datetime.date(2020, 6, 15)\n",
      " datetime.date(2020, 6, 16) datetime.date(2020, 6, 17)]\n"
     ]
    }
   ],
   "source": [
    "# CONTROL - all dates are present\n",
    "dff = p1_gen\n",
    "dff['DATE'] = pd.to_datetime(dff['DATE_TIME'], format=\"%d-%m-%Y %H:%M\").dt.date\n",
    "print(dff['DATE'].unique())"
   ]
  },
  {
   "cell_type": "code",
   "execution_count": 4,
   "metadata": {},
   "outputs": [],
   "source": [
    "#dff[ (dff['DATE_TIME'].dt.date == datetime.date(2020, 10,6) )]"
   ]
  },
  {
   "cell_type": "code",
   "execution_count": 5,
   "metadata": {},
   "outputs": [],
   "source": [
    "for df in [p1_gen]:\n",
    "    df['DATE_TIME'] = pd.to_datetime(df['DATE_TIME'], format=\"%d-%m-%Y %H:%M\")\n",
    "    \n",
    "for df in [p1_weath, p2_gen, p2_weath]:\n",
    "    df['DATE_TIME'] = pd.to_datetime(df['DATE_TIME'], format=\"%Y-%m-%d %H:%M:%S\")"
   ]
  },
  {
   "cell_type": "code",
   "execution_count": 6,
   "metadata": {},
   "outputs": [],
   "source": [
    "df_1g = p1_gen.copy()\n",
    "df_1w = p1_weath.copy()\n",
    "df_2g = p2_gen.copy()\n",
    "df_2w = p2_weath.copy()\n",
    "\n",
    "#for df in [df_1g, df_1w, df_2g, df_2w]:\n",
    "df_1g = df_1g[ (df_1g['DATE_TIME'].dt.time >= datetime.time(6, 0) ) & (df_1g['DATE_TIME'].dt.time <= datetime.time(18, 0)) ]\n",
    "df_1w = df_1w[ (df_1w['DATE_TIME'].dt.time >= datetime.time(6, 0) ) & (df_1w['DATE_TIME'].dt.time <= datetime.time(18, 0)) ]\n",
    "\n",
    "df_2g = df_2g[ (df_2g['DATE_TIME'].dt.time >= datetime.time(6, 0) ) & (df_2g['DATE_TIME'].dt.time <= datetime.time(18, 0)) ]\n",
    "df_2w = df_2w[ (df_2w['DATE_TIME'].dt.time >= datetime.time(6, 0) ) & (df_2w['DATE_TIME'].dt.time <= datetime.time(18, 0)) ]"
   ]
  },
  {
   "cell_type": "code",
   "execution_count": 7,
   "metadata": {},
   "outputs": [
    {
     "data": {
      "text/html": [
       "<div>\n",
       "<style scoped>\n",
       "    .dataframe tbody tr th:only-of-type {\n",
       "        vertical-align: middle;\n",
       "    }\n",
       "\n",
       "    .dataframe tbody tr th {\n",
       "        vertical-align: top;\n",
       "    }\n",
       "\n",
       "    .dataframe thead th {\n",
       "        text-align: right;\n",
       "    }\n",
       "</style>\n",
       "<table border=\"1\" class=\"dataframe\">\n",
       "  <thead>\n",
       "    <tr style=\"text-align: right;\">\n",
       "      <th></th>\n",
       "      <th>DATE_TIME</th>\n",
       "      <th>PLANT_ID</th>\n",
       "      <th>SOURCE_KEY</th>\n",
       "      <th>DC_POWER</th>\n",
       "      <th>AC_POWER</th>\n",
       "      <th>DAILY_YIELD</th>\n",
       "      <th>TOTAL_YIELD</th>\n",
       "      <th>DATE</th>\n",
       "    </tr>\n",
       "  </thead>\n",
       "  <tbody>\n",
       "    <tr>\n",
       "      <th>510</th>\n",
       "      <td>2020-05-15 06:00:00</td>\n",
       "      <td>4135001</td>\n",
       "      <td>1BY6WEcLGh8j5v7</td>\n",
       "      <td>37.142857</td>\n",
       "      <td>3.585714</td>\n",
       "      <td>0.000000</td>\n",
       "      <td>6259559.000</td>\n",
       "      <td>2020-05-15</td>\n",
       "    </tr>\n",
       "    <tr>\n",
       "      <th>511</th>\n",
       "      <td>2020-05-15 06:00:00</td>\n",
       "      <td>4135001</td>\n",
       "      <td>1IF53ai7Xc0U56Y</td>\n",
       "      <td>53.500000</td>\n",
       "      <td>5.162500</td>\n",
       "      <td>0.000000</td>\n",
       "      <td>6183645.000</td>\n",
       "      <td>2020-05-15</td>\n",
       "    </tr>\n",
       "    <tr>\n",
       "      <th>512</th>\n",
       "      <td>2020-05-15 06:00:00</td>\n",
       "      <td>4135001</td>\n",
       "      <td>3PZuoBAID5Wc2HD</td>\n",
       "      <td>58.000000</td>\n",
       "      <td>5.585714</td>\n",
       "      <td>0.000000</td>\n",
       "      <td>6987759.000</td>\n",
       "      <td>2020-05-15</td>\n",
       "    </tr>\n",
       "    <tr>\n",
       "      <th>513</th>\n",
       "      <td>2020-05-15 06:00:00</td>\n",
       "      <td>4135001</td>\n",
       "      <td>7JYdWkrLSPkdwr4</td>\n",
       "      <td>58.428571</td>\n",
       "      <td>5.628571</td>\n",
       "      <td>0.000000</td>\n",
       "      <td>7602960.000</td>\n",
       "      <td>2020-05-15</td>\n",
       "    </tr>\n",
       "    <tr>\n",
       "      <th>514</th>\n",
       "      <td>2020-05-15 06:00:00</td>\n",
       "      <td>4135001</td>\n",
       "      <td>McdE0feGgRqW7Ca</td>\n",
       "      <td>54.375000</td>\n",
       "      <td>5.250000</td>\n",
       "      <td>0.000000</td>\n",
       "      <td>7158964.000</td>\n",
       "      <td>2020-05-15</td>\n",
       "    </tr>\n",
       "    <tr>\n",
       "      <th>...</th>\n",
       "      <td>...</td>\n",
       "      <td>...</td>\n",
       "      <td>...</td>\n",
       "      <td>...</td>\n",
       "      <td>...</td>\n",
       "      <td>...</td>\n",
       "      <td>...</td>\n",
       "      <td>...</td>\n",
       "    </tr>\n",
       "    <tr>\n",
       "      <th>68267</th>\n",
       "      <td>2020-06-17 18:00:00</td>\n",
       "      <td>4135001</td>\n",
       "      <td>uHbuxQJl8lW7ozc</td>\n",
       "      <td>615.857143</td>\n",
       "      <td>59.614286</td>\n",
       "      <td>5949.000000</td>\n",
       "      <td>7286984.000</td>\n",
       "      <td>2020-06-17</td>\n",
       "    </tr>\n",
       "    <tr>\n",
       "      <th>68268</th>\n",
       "      <td>2020-06-17 18:00:00</td>\n",
       "      <td>4135001</td>\n",
       "      <td>wCURE6d3bPkepu2</td>\n",
       "      <td>600.714286</td>\n",
       "      <td>58.142857</td>\n",
       "      <td>5866.571429</td>\n",
       "      <td>7028584.571</td>\n",
       "      <td>2020-06-17</td>\n",
       "    </tr>\n",
       "    <tr>\n",
       "      <th>68269</th>\n",
       "      <td>2020-06-17 18:00:00</td>\n",
       "      <td>4135001</td>\n",
       "      <td>z9Y9gH1T5YWrNuG</td>\n",
       "      <td>597.857143</td>\n",
       "      <td>57.885714</td>\n",
       "      <td>5802.000000</td>\n",
       "      <td>7251187.000</td>\n",
       "      <td>2020-06-17</td>\n",
       "    </tr>\n",
       "    <tr>\n",
       "      <th>68270</th>\n",
       "      <td>2020-06-17 18:00:00</td>\n",
       "      <td>4135001</td>\n",
       "      <td>zBIq5rxdHJRwDNY</td>\n",
       "      <td>594.000000</td>\n",
       "      <td>57.528571</td>\n",
       "      <td>5799.000000</td>\n",
       "      <td>6583351.000</td>\n",
       "      <td>2020-06-17</td>\n",
       "    </tr>\n",
       "    <tr>\n",
       "      <th>68271</th>\n",
       "      <td>2020-06-17 18:00:00</td>\n",
       "      <td>4135001</td>\n",
       "      <td>zVJPv84UY57bAof</td>\n",
       "      <td>603.000000</td>\n",
       "      <td>58.414286</td>\n",
       "      <td>5892.000000</td>\n",
       "      <td>7363254.000</td>\n",
       "      <td>2020-06-17</td>\n",
       "    </tr>\n",
       "  </tbody>\n",
       "</table>\n",
       "<p>35888 rows × 8 columns</p>\n",
       "</div>"
      ],
      "text/plain": [
       "                DATE_TIME  PLANT_ID       SOURCE_KEY    DC_POWER   AC_POWER  \\\n",
       "510   2020-05-15 06:00:00   4135001  1BY6WEcLGh8j5v7   37.142857   3.585714   \n",
       "511   2020-05-15 06:00:00   4135001  1IF53ai7Xc0U56Y   53.500000   5.162500   \n",
       "512   2020-05-15 06:00:00   4135001  3PZuoBAID5Wc2HD   58.000000   5.585714   \n",
       "513   2020-05-15 06:00:00   4135001  7JYdWkrLSPkdwr4   58.428571   5.628571   \n",
       "514   2020-05-15 06:00:00   4135001  McdE0feGgRqW7Ca   54.375000   5.250000   \n",
       "...                   ...       ...              ...         ...        ...   \n",
       "68267 2020-06-17 18:00:00   4135001  uHbuxQJl8lW7ozc  615.857143  59.614286   \n",
       "68268 2020-06-17 18:00:00   4135001  wCURE6d3bPkepu2  600.714286  58.142857   \n",
       "68269 2020-06-17 18:00:00   4135001  z9Y9gH1T5YWrNuG  597.857143  57.885714   \n",
       "68270 2020-06-17 18:00:00   4135001  zBIq5rxdHJRwDNY  594.000000  57.528571   \n",
       "68271 2020-06-17 18:00:00   4135001  zVJPv84UY57bAof  603.000000  58.414286   \n",
       "\n",
       "       DAILY_YIELD  TOTAL_YIELD        DATE  \n",
       "510       0.000000  6259559.000  2020-05-15  \n",
       "511       0.000000  6183645.000  2020-05-15  \n",
       "512       0.000000  6987759.000  2020-05-15  \n",
       "513       0.000000  7602960.000  2020-05-15  \n",
       "514       0.000000  7158964.000  2020-05-15  \n",
       "...            ...          ...         ...  \n",
       "68267  5949.000000  7286984.000  2020-06-17  \n",
       "68268  5866.571429  7028584.571  2020-06-17  \n",
       "68269  5802.000000  7251187.000  2020-06-17  \n",
       "68270  5799.000000  6583351.000  2020-06-17  \n",
       "68271  5892.000000  7363254.000  2020-06-17  \n",
       "\n",
       "[35888 rows x 8 columns]"
      ]
     },
     "execution_count": 7,
     "metadata": {},
     "output_type": "execute_result"
    }
   ],
   "source": [
    "df_1g"
   ]
  },
  {
   "cell_type": "markdown",
   "metadata": {},
   "source": [
    "# ON ALL DATA (including night-time)"
   ]
  },
  {
   "cell_type": "code",
   "execution_count": 8,
   "metadata": {},
   "outputs": [],
   "source": [
    "# p1_gen, p1_weath, p2_gen, p2_weath\n",
    "\n",
    "dc = []\n",
    "\n",
    "gen_zeros = []\n",
    "for df in [p1_gen, p2_gen]:\n",
    "    DC = (df['DC_POWER'] == 0).sum()\n",
    "    AC = (df['AC_POWER'] == 0).sum()\n",
    "    DY = (df['DAILY_YIELD'] == 0).sum()\n",
    "    TY = (df['TOTAL_YIELD'] == 0).sum()\n",
    "    zeros = DC + AC + DY + TY\n",
    "    gen_zeros.append(zeros)\n",
    "    dc.append(DC)\n",
    "    \n",
    "weath_zeros = []\n",
    "for df in [p1_weath, p2_weath]:\n",
    "    amb = (df['AMBIENT_TEMPERATURE'] == 0).sum()\n",
    "    mod = (df['MODULE_TEMPERATURE'] == 0).sum()\n",
    "    irr = (df['IRRADIATION'] == 0).sum()\n",
    "    zeros = amb + mod + irr\n",
    "    weath_zeros.append(zeros)"
   ]
  },
  {
   "cell_type": "code",
   "execution_count": 9,
   "metadata": {},
   "outputs": [
    {
     "name": "stdout",
     "output_type": "stream",
     "text": [
      "[31951, 35662]\n",
      "0.46455261856989155\n",
      "0.5267807025318325\n",
      "[82598, 83456]\n",
      "[1425, 1397]\n",
      "0.29517174995960066\n",
      "0.3024318438601556\n"
     ]
    }
   ],
   "source": [
    "print(dc)\n",
    "print(dc[0]/len(p1_gen))\n",
    "print(dc[1]/len(p2_gen))\n",
    "\n",
    "print(gen_zeros)\n",
    "print(weath_zeros)\n",
    "print((gen_zeros[0]+weath_zeros[0])/(len(p1_gen)*4+len(p1_weath)*3))\n",
    "print((gen_zeros[1]+weath_zeros[1])/(len(p2_gen)*4+len(p2_weath)*3))"
   ]
  },
  {
   "cell_type": "markdown",
   "metadata": {},
   "source": [
    "# ON ONLY DAYTIME DATA"
   ]
  },
  {
   "cell_type": "code",
   "execution_count": 10,
   "metadata": {},
   "outputs": [],
   "source": [
    "dc = []\n",
    "\n",
    "gen_zeros = []\n",
    "for df in [df_1g, df_2g]:\n",
    "    DC = (df['DC_POWER'] == 0).sum()\n",
    "    AC = (df['AC_POWER'] == 0).sum()\n",
    "    DY = (df['DAILY_YIELD'] == 0).sum()\n",
    "    TY = (df['TOTAL_YIELD'] == 0).sum()\n",
    "    zeros = DC + AC + DY + TY\n",
    "    gen_zeros.append(zeros)\n",
    "    dc.append(DC)\n",
    "    \n",
    "weath_zeros = []\n",
    "for df in [df_1w, df_2w]:\n",
    "    amb = (df['AMBIENT_TEMPERATURE'] == 0).sum()\n",
    "    mod = (df['MODULE_TEMPERATURE'] == 0).sum()\n",
    "    irr = (df['IRRADIATION'] == 0).sum()\n",
    "    zeros = amb + mod + irr\n",
    "    weath_zeros.append(zeros)"
   ]
  },
  {
   "cell_type": "code",
   "execution_count": 11,
   "metadata": {},
   "outputs": [
    {
     "name": "stdout",
     "output_type": "stream",
     "text": [
      "[217, 4003]\n",
      "0.006046589389210879\n",
      "0.1160088100620182\n",
      "[709, 9154]\n",
      "[0, 1]\n",
      "0.004775793664158645\n",
      "0.06401650234249354\n"
     ]
    }
   ],
   "source": [
    "print(dc)\n",
    "print(dc[0]/len(df_1g))\n",
    "print(dc[1]/len(df_2g))\n",
    "\n",
    "print(gen_zeros)\n",
    "print(weath_zeros)\n",
    "print((gen_zeros[0]+weath_zeros[0])/(len(df_1g)*4+len(df_1w)*3))\n",
    "print((gen_zeros[1]+weath_zeros[1])/(len(df_2g)*4+len(df_2w)*3))"
   ]
  },
  {
   "cell_type": "markdown",
   "metadata": {},
   "source": [
    "##### Plant 1 zeros\n",
    "Gen = 709, all = 143 552\n",
    "\n",
    "Weather = 0, all = 4905\n",
    "\n",
    "Together = 709/148 457 = 0.005 -> 0.5%\n",
    "\n",
    "DC = 217/35 888 = 0.006 -> 0.6% (217/709 -> 30% from all missing values)\n",
    "\n",
    "##### Plant 2 zeros\n",
    "Gen = 9154, all = 138 024\n",
    "\n",
    "Weather = 1, all = 4986\n",
    "\n",
    "Together = 9155/143 010 = 0.064 -> 6.4%\n",
    "\n",
    "DC = 4003/34 506 = 0.116 -> 11.6 or 12% (4003/9154 -> 44% of all missing values)"
   ]
  }
 ],
 "metadata": {
  "kernelspec": {
   "display_name": "Python 3",
   "language": "python",
   "name": "python3"
  },
  "language_info": {
   "codemirror_mode": {
    "name": "ipython",
    "version": 3
   },
   "file_extension": ".py",
   "mimetype": "text/x-python",
   "name": "python",
   "nbconvert_exporter": "python",
   "pygments_lexer": "ipython3",
   "version": "3.8.3"
  }
 },
 "nbformat": 4,
 "nbformat_minor": 4
}
