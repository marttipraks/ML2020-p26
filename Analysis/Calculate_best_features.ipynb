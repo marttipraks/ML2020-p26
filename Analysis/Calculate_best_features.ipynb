{
 "cells": [
  {
   "cell_type": "code",
   "execution_count": 1,
   "metadata": {},
   "outputs": [],
   "source": [
    "import numpy as np\n",
    "import pandas as pd\n",
    "import itertools\n",
    "from sklearn.metrics import mean_squared_error, mean_absolute_error"
   ]
  },
  {
   "cell_type": "code",
   "execution_count": 2,
   "metadata": {},
   "outputs": [],
   "source": [
    "from sklearn.linear_model import LinearRegression"
   ]
  },
  {
   "cell_type": "code",
   "execution_count": 3,
   "metadata": {},
   "outputs": [],
   "source": [
    "# all_features does not include 'DATE_TIME' and 'SOURCE_KEY'\n",
    "\n",
    "alll_features = ['AMBIENT_TEMPERATURE', 'MODULE_TEMPERATURE', 'IRRADIATION', 'PLANT_ID', 'DC_POWER', 'AC_POWER', 'DAILY_YIELD', 'DC_AVG_DIF_PER_DAY', 'AC_AVG_DIF_PER_DAY', 'DC_DIF_AVG_PER_MOMENT', 'AC_DIF_AVG_PER_MOMENT', 'HOUR', 'MINUTE', 'DAY_OF_YEAR', 'DAY_OF_WEEK', 'MONTH', 'DAY_OF_MONTH']\n",
    "predict_column = 'DC_POWER'\n",
    "all_features = [x for x in alll_features if x != predict_column]\n",
    "\n",
    "def feature_combinations(all_features):\n",
    "    all_combinations = []\n",
    "    length = len(all_features)\n",
    "    for i in range(1, length + 1):\n",
    "        for combination in itertools.combinations(all_features, i):\n",
    "            all_combinations.append(list(combination))\n",
    "    return all_combinations \n",
    "\n",
    "# The above function returns a list of all possible combinations the given features\n",
    "all_combinations = feature_combinations(all_features)"
   ]
  },
  {
   "cell_type": "code",
   "execution_count": 4,
   "metadata": {},
   "outputs": [
    {
     "ename": "NameError",
     "evalue": "name 'train' is not defined",
     "output_type": "error",
     "traceback": [
      "\u001b[1;31m---------------------------------------------------------------------------\u001b[0m",
      "\u001b[1;31mNameError\u001b[0m                                 Traceback (most recent call last)",
      "\u001b[1;32m<ipython-input-4-e38d45864029>\u001b[0m in \u001b[0;36m<module>\u001b[1;34m\u001b[0m\n\u001b[0;32m     11\u001b[0m     \u001b[1;31m# THE SPECIFIC MODEL (I had Linear Regression here)\u001b[0m\u001b[1;33m\u001b[0m\u001b[1;33m\u001b[0m\u001b[1;33m\u001b[0m\u001b[0m\n\u001b[0;32m     12\u001b[0m     \u001b[0mlr\u001b[0m \u001b[1;33m=\u001b[0m \u001b[0mLinearRegression\u001b[0m\u001b[1;33m(\u001b[0m\u001b[1;33m)\u001b[0m\u001b[1;33m\u001b[0m\u001b[1;33m\u001b[0m\u001b[0m\n\u001b[1;32m---> 13\u001b[1;33m     \u001b[0mlr\u001b[0m\u001b[1;33m.\u001b[0m\u001b[0mfit\u001b[0m\u001b[1;33m(\u001b[0m\u001b[0mtrain\u001b[0m\u001b[1;33m[\u001b[0m\u001b[0mtrain_features\u001b[0m\u001b[1;33m]\u001b[0m\u001b[1;33m,\u001b[0m \u001b[0mtrain\u001b[0m\u001b[1;33m[\u001b[0m\u001b[1;33m[\u001b[0m\u001b[0mpredict_column\u001b[0m\u001b[1;33m]\u001b[0m\u001b[1;33m]\u001b[0m\u001b[1;33m)\u001b[0m\u001b[1;33m\u001b[0m\u001b[1;33m\u001b[0m\u001b[0m\n\u001b[0m\u001b[0;32m     14\u001b[0m     \u001b[0mtest_predictions\u001b[0m \u001b[1;33m=\u001b[0m \u001b[0mlr\u001b[0m\u001b[1;33m.\u001b[0m\u001b[0mpredict\u001b[0m\u001b[1;33m(\u001b[0m\u001b[0mtest\u001b[0m\u001b[1;33m[\u001b[0m\u001b[0mtrain_features\u001b[0m\u001b[1;33m]\u001b[0m\u001b[1;33m)\u001b[0m\u001b[1;33m\u001b[0m\u001b[1;33m\u001b[0m\u001b[0m\n\u001b[0;32m     15\u001b[0m     \u001b[1;31m#\u001b[0m\u001b[1;33m\u001b[0m\u001b[1;33m\u001b[0m\u001b[1;33m\u001b[0m\u001b[0m\n",
      "\u001b[1;31mNameError\u001b[0m: name 'train' is not defined"
     ]
    }
   ],
   "source": [
    "np.random.seed(1111)\n",
    "\n",
    "for i in range(len(all_combinations)):\n",
    "    best_rmse = 10000000 #or some other large nr\n",
    "    best_rmse_features = []\n",
    "    best_mae = 10000000 #or some other large nr\n",
    "    best_mae_features = []\n",
    "    train_features = all_combinations[i]\n",
    "    predict_column = 'DC_POWER'\n",
    "    \n",
    "    # THE SPECIFIC MODEL (I had Linear Regression here)\n",
    "    lr = LinearRegression()\n",
    "    lr.fit(train[train_features], train[[predict_column]])\n",
    "    test_predictions = lr.predict(test[train_features])\n",
    "    #\n",
    "    \n",
    "    # rmse\n",
    "    rmse = mean_squared_error( test[[predict_column]] , test_predictions, squared=False)\n",
    "    if rmse < best_rmse:\n",
    "        best_rmse = rmse\n",
    "        best_rmse_features = train_features\n",
    "        \n",
    "    # mae\n",
    "    mae = mean_absolute_error( test[[predict_column]] , test_predictions )\n",
    "    if mae < best_mae:\n",
    "        best_mae = mae\n",
    "        best_mae_features = train_features"
   ]
  }
 ],
 "metadata": {
  "kernelspec": {
   "display_name": "Python 3",
   "language": "python",
   "name": "python3"
  },
  "language_info": {
   "codemirror_mode": {
    "name": "ipython",
    "version": 3
   },
   "file_extension": ".py",
   "mimetype": "text/x-python",
   "name": "python",
   "nbconvert_exporter": "python",
   "pygments_lexer": "ipython3",
   "version": "3.8.3"
  }
 },
 "nbformat": 4,
 "nbformat_minor": 4
}
