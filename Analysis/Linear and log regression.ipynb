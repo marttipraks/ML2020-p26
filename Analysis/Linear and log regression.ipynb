{
 "cells": [
  {
   "cell_type": "markdown",
   "metadata": {},
   "source": [
    "### Linear regression and log regression\n",
    "#### Can we predict the power generation for next couple of days? - this allows for better grid management\n",
    "While analyzing data, do we see some patterns in power generation?"
   ]
  },
  {
   "cell_type": "code",
   "execution_count": 11,
   "metadata": {},
   "outputs": [],
   "source": [
    "import numpy as np\n",
    "import pandas as pd\n",
    "from sklearn import preprocessing\n",
    "from sklearn import utils"
   ]
  },
  {
   "cell_type": "markdown",
   "metadata": {},
   "source": [
    "#### Data"
   ]
  },
  {
   "cell_type": "code",
   "execution_count": 7,
   "metadata": {},
   "outputs": [],
   "source": [
    "train1 = pd.read_csv(\"ML2020-p26-main/Data/Train_Plant1.csv\")\n",
    "test1 = pd.read_csv(\"ML2020-p26-main/Data/Test_Plant1.csv\")\n",
    "\n",
    "train2 = pd.read_csv(\"ML2020-p26-main/Data/Train_Plant2.csv\")\n",
    "test2 = pd.read_csv(\"ML2020-p26-main/Data/Test_Plant2.csv\")"
   ]
  },
  {
   "cell_type": "code",
   "execution_count": 8,
   "metadata": {},
   "outputs": [],
   "source": [
    "def create_features(in_data):\n",
    "    in_data['DATE_TIME'] = pd.to_datetime(in_data['DATE_TIME'])\n",
    "    in_data[\"DATE\"] = in_data['DATE_TIME'].dt.date\n",
    "    in_data[\"HOUR\"] = in_data['DATE_TIME'].dt.hour\n",
    "    in_data[\"MINUTE\"] = in_data['DATE_TIME'].dt.minute\n",
    "    in_data[\"DAY_OF_YEAR\"] = in_data['DATE_TIME'].dt.dayofyear\n",
    "    in_data[\"DAY_OF_WEEK\"] = in_data['DATE_TIME'].dt.dayofweek\n",
    "    in_data[\"MONTH\"] = in_data['DATE_TIME'].dt.month\n",
    "    in_data[\"DAY_OF_MONTH\"] = in_data['DATE_TIME'].dt.day\n",
    "    \n",
    "create_features(train1)\n",
    "create_features(test1)\n",
    "    \n",
    "create_features(train2)\n",
    "create_features(test2)"
   ]
  },
  {
   "cell_type": "markdown",
   "metadata": {},
   "source": [
    "#### Linear regression"
   ]
  },
  {
   "cell_type": "code",
   "execution_count": 16,
   "metadata": {},
   "outputs": [],
   "source": [
    "from sklearn.linear_model import LinearRegression\n",
    "from sklearn import metrics"
   ]
  },
  {
   "cell_type": "code",
   "execution_count": 34,
   "metadata": {},
   "outputs": [
    {
     "name": "stdout",
     "output_type": "stream",
     "text": [
      "[0.01285528, -0.0020498, -0.12589129, -2.28440674, -0.03024164, 0.81159965, 3.34587997, -1.10258629, 912.94071074 , -15.29409425]\n"
     ]
    }
   ],
   "source": [
    "train = train2\n",
    "test = test2\n",
    "\n",
    "train_features = ['HOUR','MINUTE','DAY_OF_YEAR','DAY_OF_WEEK','MONTH','DAY_OF_MONTH', 'AMBIENT_TEMPERATURE', 'MODULE_TEMPERATURE', 'IRRADIATION']\n",
    "predict_column = 'AC_POWER'\n",
    "\n",
    "np.random.seed(1111)\n",
    "lr = LinearRegression()\n",
    "lr.fit(train[train_features], train[[predict_column]])\n",
    "\n",
    "# learnt weights\n",
    "print(f'[{round(lr.coef_[0][0], 8)}, {round(lr.coef_[0][1], 8)}, {round(lr.coef_[0][2], 8)}, {round(lr.coef_[0][3], 8)}, {round(lr.coef_[0][4], 8)}, {round(lr.coef_[0][5], 8)}, {round(lr.coef_[0][6], 8)}, {round(lr.coef_[0][7], 8)}, {round(lr.coef_[0][8], 8)} , {round(lr.intercept_[0], 8)}]')"
   ]
  },
  {
   "cell_type": "code",
   "execution_count": 35,
   "metadata": {},
   "outputs": [
    {
     "name": "stdout",
     "output_type": "stream",
     "text": [
      "177.04688121107873\n"
     ]
    }
   ],
   "source": [
    "test_predictions = lr.predict(test[train_features])\n",
    "\n",
    "# RMSE\n",
    "print(np.sqrt(metrics.mean_squared_error( test[[predict_column]] , test_predictions )))"
   ]
  },
  {
   "cell_type": "markdown",
   "metadata": {},
   "source": [
    "RMSE when predicting AC POWER in Plant 1 : 335.74 -> 48.61\n",
    "\n",
    "RMSE when predicting DC POWER in Plant 1 : 3433.54 -> 495.67"
   ]
  },
  {
   "cell_type": "markdown",
   "metadata": {},
   "source": [
    "RMSE when predicting AC POWER in Plant 2 : 289.39 -> 177.05\n",
    "\n",
    "RMSE when predicting DC POWER in Plant 2 : 295.81 -> 180.86"
   ]
  },
  {
   "cell_type": "markdown",
   "metadata": {},
   "source": [
    "#### Log regression"
   ]
  },
  {
   "cell_type": "code",
   "execution_count": 13,
   "metadata": {},
   "outputs": [],
   "source": [
    "from sklearn.linear_model import LogisticRegression \n",
    "lab_enc = preprocessing.LabelEncoder()"
   ]
  },
  {
   "cell_type": "code",
   "execution_count": 68,
   "metadata": {},
   "outputs": [],
   "source": [
    "# Koodi testimise andmestikud\n",
    "\n",
    "#train22 = train2[:5000]\n",
    "#test22 = test2[:1000]\n",
    "\n",
    "#train22 = preprocessing.scale(train22)\n",
    "#test22 = preprocessing.scale(test22)"
   ]
  },
  {
   "cell_type": "code",
   "execution_count": 14,
   "metadata": {},
   "outputs": [
    {
     "name": "stdout",
     "output_type": "stream",
     "text": [
      "Accuracy of LOG 69.34046345811052%\n"
     ]
    }
   ],
   "source": [
    "train = train1[:9000]\n",
    "test = test1\n",
    "\n",
    "train_features = ['HOUR','MINUTE','DAY_OF_YEAR','DAY_OF_WEEK','MONTH','DAY_OF_MONTH']\n",
    "predict_column = 'AC_POWER'\n",
    "\n",
    "logr = LogisticRegression(solver='lbfgs', max_iter=1000)\n",
    "\n",
    "train_pred = lab_enc.fit_transform(preprocessing.scale( train[predict_column] ))\n",
    "\n",
    "# FIT\n",
    "logr.fit(preprocessing.scale( train[train_features] ), train_pred)\n",
    "# test22.loc['logr'] = logr.predict(test22[train_features])\n",
    "\n",
    "test_pred = lab_enc.fit_transform(preprocessing.scale( test[predict_column] ))\n",
    "\n",
    "print(f\"Accuracy of LOG {logr.score(preprocessing.scale( test[train_features] ), test_pred )*100}%\")"
   ]
  },
  {
   "cell_type": "code",
   "execution_count": 17,
   "metadata": {},
   "outputs": [
    {
     "name": "stdout",
     "output_type": "stream",
     "text": [
      "1339.8456528489367\n"
     ]
    }
   ],
   "source": [
    "# RMSE\n",
    "print(np.sqrt(metrics.mean_squared_error( test[[predict_column]] , test_pred )))"
   ]
  },
  {
   "cell_type": "markdown",
   "metadata": {},
   "source": [
    "Accuracy of predicting AC POWER in Plant 1 : 69.34046345811052 % (with training data length 9000)\n",
    "\n",
    "RMSE : 1339.85\n",
    "\n",
    "Accuracy of predicting DC POWER in Plant 1 : 69.34046345811052 % (with training data length 9000)\n",
    "\n",
    "RMSE : 2011.80"
   ]
  },
  {
   "cell_type": "markdown",
   "metadata": {},
   "source": [
    "Accuracy of predicting AC POWER in Plant 2 : 50.32308377896613 % (with training data length 9000)\n",
    "\n",
    "RMSE : 3193.82\n",
    "\n",
    "Accuracy of predicting DC POWER in Plant 2 : 50.32308377896613 % (with training data length 9000)\n",
    "\n",
    "RMSE : 3194.76"
   ]
  }
 ],
 "metadata": {
  "kernelspec": {
   "display_name": "Python 3",
   "language": "python",
   "name": "python3"
  },
  "language_info": {
   "codemirror_mode": {
    "name": "ipython",
    "version": 3
   },
   "file_extension": ".py",
   "mimetype": "text/x-python",
   "name": "python",
   "nbconvert_exporter": "python",
   "pygments_lexer": "ipython3",
   "version": "3.8.3"
  }
 },
 "nbformat": 4,
 "nbformat_minor": 4
}
