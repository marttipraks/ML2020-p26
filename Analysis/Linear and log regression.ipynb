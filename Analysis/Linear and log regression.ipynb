{
 "cells": [
  {
   "cell_type": "markdown",
   "metadata": {},
   "source": [
    "### Linear regression and log regression\n",
    "#### Can we predict the power generation for next couple of days? - this allows for better grid management\n",
    "While analyzing data, do we see some patterns in power generation?"
   ]
  },
  {
   "cell_type": "code",
   "execution_count": 2,
   "metadata": {},
   "outputs": [],
   "source": [
    "import numpy as np\n",
    "import pandas as pd\n",
    "from sklearn import preprocessing\n",
    "from sklearn import utils\n",
    "from sklearn.metrics import mean_squared_error, mean_absolute_error, r2_score\n",
    "#from calculate_model_statistics import calculate_RMSE_MSE\n",
    "#from matplotlib import pyplot\n",
    "import scipy.stats"
   ]
  },
  {
   "cell_type": "markdown",
   "metadata": {},
   "source": [
    "#### Data"
   ]
  },
  {
   "cell_type": "code",
   "execution_count": 3,
   "metadata": {},
   "outputs": [],
   "source": [
    "train1 = pd.read_csv(\"ML2020-p26-main/Data/Train_Plant1_added_features.csv\")\n",
    "test1 = pd.read_csv(\"ML2020-p26-main/Data/Test_Plant1_added_features.csv\")\n",
    "#standardized\n",
    "train1s = pd.read_csv(\"ML2020-p26-main/Data/Train_Plant1_added_features_standardized.csv\")\n",
    "test1s = pd.read_csv(\"ML2020-p26-main/Data/Test_Plant1_added_features_standardized.csv\")\n",
    "#min_max\n",
    "train1m = pd.read_csv(\"ML2020-p26-main/Data/Train_Plant1_added_features_min_max.csv\")\n",
    "test1m = pd.read_csv(\"ML2020-p26-main/Data/Test_Plant1_added_features_min_max.csv\")\n",
    "\n",
    "train2 = pd.read_csv(\"ML2020-p26-main/Data/Train_Plant2_added_features.csv\")\n",
    "test2 = pd.read_csv(\"ML2020-p26-main/Data/Test_Plant2_added_features.csv\")\n",
    "#standardized\n",
    "train2s = pd.read_csv(\"ML2020-p26-main/Data/Train_Plant2_added_features_standardized.csv\")\n",
    "test2s = pd.read_csv(\"ML2020-p26-main/Data/Test_Plant2_added_features_standardized.csv\")"
   ]
  },
  {
   "cell_type": "code",
   "execution_count": 4,
   "metadata": {},
   "outputs": [],
   "source": [
    "def create_features(in_data):\n",
    "    in_data['DATE_TIME'] = pd.to_datetime(in_data['DATE_TIME'])\n",
    "    in_data[\"DATE\"] = in_data['DATE_TIME'].dt.date\n",
    "    in_data[\"HOUR\"] = in_data['DATE_TIME'].dt.hour\n",
    "    in_data[\"MINUTE\"] = in_data['DATE_TIME'].dt.minute\n",
    "    in_data[\"DAY_OF_YEAR\"] = in_data['DATE_TIME'].dt.dayofyear\n",
    "    in_data[\"DAY_OF_WEEK\"] = in_data['DATE_TIME'].dt.dayofweek\n",
    "    in_data[\"MONTH\"] = in_data['DATE_TIME'].dt.month\n",
    "    in_data[\"DAY_OF_MONTH\"] = in_data['DATE_TIME'].dt.day\n",
    "    \n",
    "create_features(train1)\n",
    "create_features(test1)\n",
    "create_features(train1s)\n",
    "create_features(test1s)\n",
    "create_features(train1m)\n",
    "create_features(test1m)\n",
    "    \n",
    "create_features(train2)\n",
    "create_features(test2)\n",
    "create_features(train2s)\n",
    "create_features(test2s)"
   ]
  },
  {
   "cell_type": "code",
   "execution_count": 5,
   "metadata": {},
   "outputs": [],
   "source": [
    "# All the column names\n",
    "columns = list(train1s.columns) \n",
    "columns = columns[2:]\n",
    "#print(len(columns))\n",
    "columns = [x for x in columns if x not in ['DATE_TIME','SOURCE_KEY','DATE','TIME'] ]\n",
    "#print(len(columns))"
   ]
  },
  {
   "cell_type": "markdown",
   "metadata": {},
   "source": [
    "##### Function to find the best features"
   ]
  },
  {
   "cell_type": "code",
   "execution_count": 81,
   "metadata": {},
   "outputs": [],
   "source": [
    "import itertools\n",
    "#all_features does not include 'DATE_TIME' and 'SOURCE_KEY'\n",
    "\n",
    "alll_features = ['AMBIENT_TEMPERATURE', 'MODULE_TEMPERATURE', 'IRRADIATION', 'PLANT_ID', 'DC_POWER', 'AC_POWER', 'DAILY_YIELD', 'DC_AVG_DIF_PER_DAY', 'AC_AVG_DIF_PER_DAY', 'DC_DIF_AVG_PER_MOMENT', 'AC_DIF_AVG_PER_MOMENT', 'HOUR', 'MINUTE', 'DAY_OF_YEAR', 'DAY_OF_WEEK', 'MONTH', 'DAY_OF_MONTH']\n",
    "predict_column = 'DC_POWER'\n",
    "all_features = [x for x in alll_features if x != predict_column]\n",
    "\n",
    "def feature_combinations(all_features):\n",
    "    all_combinations = []\n",
    "    length = len(all_features)\n",
    "    for i in range(1, length + 1):\n",
    "        for combination in itertools.combinations(all_features, i):\n",
    "            all_combinations.append(list(combination))\n",
    "            #print(combination)\n",
    "    return all_combinations \n",
    "\n",
    "# The above function returns a list of all possible combinations the given features\n",
    "all_combinations = feature_combinations(all_features)"
   ]
  },
  {
   "cell_type": "markdown",
   "metadata": {},
   "source": [
    "#### Linear regression"
   ]
  },
  {
   "cell_type": "code",
   "execution_count": 6,
   "metadata": {},
   "outputs": [],
   "source": [
    "from sklearn.linear_model import LinearRegression\n",
    "from sklearn import metrics"
   ]
  },
  {
   "cell_type": "code",
   "execution_count": null,
   "metadata": {},
   "outputs": [],
   "source": [
    "\"\"\"\n",
    "train = train1s\n",
    "test = test1s\n",
    "\n",
    "np.random.seed(1111)\n",
    "\n",
    "for i in range(len(all_combinations)):\n",
    "    best_rmse = 100000 #or some other large nr\n",
    "    best_rmse_features = []\n",
    "    best_mae = 100000 #or some other large nr\n",
    "    best_mae_features = []\n",
    "    best_r2 = 0 #small nr means the model is bad\n",
    "    best_r2_features = []\n",
    "    train_features = all_combinations[i]\n",
    "    predict_column = 'DC_POWER'\n",
    "    \n",
    "    # THE SPECIFIC MODEL\n",
    "    lr = LinearRegression()\n",
    "    lr.fit(train[train_features], train[[predict_column]])\n",
    "    test_predictions = lr.predict(test[train_features])\n",
    "    #\n",
    "    \n",
    "    # rmse\n",
    "    rmse = mean_squared_error( test[[predict_column]] , test_predictions, squared=False)\n",
    "    if rmse < best_rmse:\n",
    "        best_rmse = rmse\n",
    "        best_rmse_features = train_features\n",
    "        \n",
    "    # mae\n",
    "    mae = mean_absolute_error( test[[predict_column]] , test_predictions )\n",
    "    if mae < best_mae:\n",
    "        best_mae = mae\n",
    "        best_mae_features = train_features\n",
    "        \n",
    "    # r^2\n",
    "    r2 = r2_score( test[[predict_column]] , test_predictions )\n",
    "    if r2 > best_r2:\n",
    "        best_r2 = r2\n",
    "        best_r2_features = train_features\n",
    "        \n",
    "\"\"\""
   ]
  },
  {
   "cell_type": "code",
   "execution_count": null,
   "metadata": {},
   "outputs": [],
   "source": [
    "\"\"\"\n",
    "print(best_r2_features)\n",
    "print(best_r2)\n",
    "print(best_rmse_features)\n",
    "print(best_rmse)\n",
    "print(best_mae_features)\n",
    "print(best_mae)\n",
    "\"\"\""
   ]
  },
  {
   "cell_type": "markdown",
   "metadata": {},
   "source": [
    "   "
   ]
  },
  {
   "cell_type": "code",
   "execution_count": 139,
   "metadata": {},
   "outputs": [
    {
     "data": {
      "text/plain": [
       "67"
      ]
     },
     "execution_count": 139,
     "metadata": {},
     "output_type": "execute_result"
    }
   ],
   "source": [
    "all_features = ['AMBIENT_TEMPERATURE', 'MODULE_TEMPERATURE', 'IRRADIATION', 'PLANT_ID', 'DC_POWER', 'AC_POWER', \n",
    "                'DAILY_YIELD', 'TOTAL_YIELD', 'ARTIFICIAL', 'DC_POWER_DIF_AVG_PER_ALL', 'AC_POWER_DIF_AVG_PER_ALL', \n",
    "                'DC_POWER_PER_INVERTER_MOMENT_SHIFT_MINUS_1', 'DC_POWER_PER_INVERTER_DAY_SHIFT_MINUS_1', \n",
    "                'AC_POWER_PER_INVERTER_MOMENT_SHIFT_MINUS_1', 'AC_POWER_PER_INVERTER_DAY_SHIFT_MINUS_1', \n",
    "                'DAILY_YIELD_PER_INVERTER_MOMENT_SHIFT_MINUS_1', 'DAILY_YIELD_PER_INVERTER_DAY_SHIFT_MINUS_1', \n",
    "                'TOTAL_YIELD_PER_INVERTER_MOMENT_SHIFT_MINUS_1', 'TOTAL_YIELD_PER_INVERTER_DAY_SHIFT_MINUS_1', \n",
    "                'AMBIENT_TEMPERATURE_PER_INVERTER_MOMENT_SHIFT_MINUS_1', 'AMBIENT_TEMPERATURE_PER_INVERTER_DAY_SHIFT_MINUS_1', \n",
    "                'MODULE_TEMPERATURE_PER_INVERTER_MOMENT_SHIFT_MINUS_1', 'MODULE_TEMPERATURE_PER_INVERTER_DAY_SHIFT_MINUS_1', \n",
    "                'IRRADIATION_PER_INVERTER_MOMENT_SHIFT_MINUS_1', 'IRRADIATION_PER_INVERTER_DAY_SHIFT_MINUS_1', \n",
    "                'DC_POWER_PER_INVERTER_MOMENT_SHIFT_MINUS_2', 'DC_POWER_PER_INVERTER_DAY_SHIFT_MINUS_2', \n",
    "                'AC_POWER_PER_INVERTER_MOMENT_SHIFT_MINUS_2', 'AC_POWER_PER_INVERTER_DAY_SHIFT_MINUS_2', \n",
    "                'DAILY_YIELD_PER_INVERTER_MOMENT_SHIFT_MINUS_2', 'DAILY_YIELD_PER_INVERTER_DAY_SHIFT_MINUS_2', \n",
    "                'TOTAL_YIELD_PER_INVERTER_MOMENT_SHIFT_MINUS_2', 'TOTAL_YIELD_PER_INVERTER_DAY_SHIFT_MINUS_2', \n",
    "                'AMBIENT_TEMPERATURE_PER_INVERTER_MOMENT_SHIFT_MINUS_2', 'AMBIENT_TEMPERATURE_PER_INVERTER_DAY_SHIFT_MINUS_2', \n",
    "                'MODULE_TEMPERATURE_PER_INVERTER_MOMENT_SHIFT_MINUS_2', 'MODULE_TEMPERATURE_PER_INVERTER_DAY_SHIFT_MINUS_2', \n",
    "                'IRRADIATION_PER_INVERTER_MOMENT_SHIFT_MINUS_2', 'IRRADIATION_PER_INVERTER_DAY_SHIFT_MINUS_2', \n",
    "                'DC_POWER_PER_INVERTER_MOMENT_SHIFT_MINUS_3', 'DC_POWER_PER_INVERTER_DAY_SHIFT_MINUS_3', \n",
    "                'AC_POWER_PER_INVERTER_MOMENT_SHIFT_MINUS_3', 'AC_POWER_PER_INVERTER_DAY_SHIFT_MINUS_3', \n",
    "                'DAILY_YIELD_PER_INVERTER_MOMENT_SHIFT_MINUS_3', 'DAILY_YIELD_PER_INVERTER_DAY_SHIFT_MINUS_3', \n",
    "                'TOTAL_YIELD_PER_INVERTER_MOMENT_SHIFT_MINUS_3', 'TOTAL_YIELD_PER_INVERTER_DAY_SHIFT_MINUS_3', \n",
    "                'AMBIENT_TEMPERATURE_PER_INVERTER_MOMENT_SHIFT_MINUS_3', 'AMBIENT_TEMPERATURE_PER_INVERTER_DAY_SHIFT_MINUS_3', \n",
    "                'MODULE_TEMPERATURE_PER_INVERTER_MOMENT_SHIFT_MINUS_3', 'MODULE_TEMPERATURE_PER_INVERTER_DAY_SHIFT_MINUS_3', \n",
    "                'IRRADIATION_PER_INVERTER_MOMENT_SHIFT_MINUS_3', 'IRRADIATION_PER_INVERTER_DAY_SHIFT_MINUS_3', \n",
    "                'DC_DIF_AVG_PER_INVERTER_WHOLE_PERIOD', 'AC_DIF_AVG_PER_INVERTER_WHOLE_PERIOD', 'DC_DIF_AVG_PER_INVERTER_PER_DAY', \n",
    "                'AC_DIF_AVG_PER_INVERTER_PER_DAY', 'DC_AVG_DIF_PER_DAY', 'AC_AVG_DIF_PER_DAY', 'DC_DIF_AVG_PER_MOMENT', \n",
    "                'AC_DIF_AVG_PER_MOMENT', 'HOUR', 'MINUTE', 'DAY_OF_YEAR', 'DAY_OF_WEEK', 'MONTH', 'DAY_OF_MONTH']\n",
    "len(all_features)"
   ]
  },
  {
   "cell_type": "code",
   "execution_count": 152,
   "metadata": {},
   "outputs": [
    {
     "data": {
      "text/plain": [
       "5"
      ]
     },
     "execution_count": 152,
     "metadata": {},
     "output_type": "execute_result"
    }
   ],
   "source": [
    "all_features1 = ['DC_POWER', 'DC_POWER_DIF_AVG_PER_ALL', 'DAY_OF_YEAR', 'MONTH', 'DAY_OF_MONTH']\n",
    "len(all_features1)"
   ]
  },
  {
   "cell_type": "code",
   "execution_count": 153,
   "metadata": {},
   "outputs": [
    {
     "name": "stdout",
     "output_type": "stream",
     "text": [
      "[ 384.02074281908875,     DC_POWER_DIF_AVG_PER_ALL ]\n",
      "[ -0.25368676401852236,     DAY_OF_YEAR ]\n",
      "[ 7.864289684572985,     MONTH ]\n",
      "[ 0.25368676401846946,     DAY_OF_MONTH ]\n",
      "[[233.95214492]]\n"
     ]
    }
   ],
   "source": [
    "train = train2s\n",
    "test = test2s\n",
    "\n",
    "# beginning\n",
    "# ['HOUR','MINUTE','DAY_OF_YEAR','DAY_OF_WEEK','MONTH','DAY_OF_MONTH', \n",
    "# 'AMBIENT_TEMPERATURE', 'MODULE_TEMPERATURE', 'IRRADIATION']\n",
    "# before\n",
    "# ['AMBIENT_TEMPERATURE', 'MODULE_TEMPERATURE', 'IRRADIATION', 'PLANT_ID', 'DC_POWER', 'AC_POWER', \n",
    "# 'DAILY_YIELD', 'DC_AVG_DIF_PER_DAY', 'AC_AVG_DIF_PER_DAY', 'DC_DIF_AVG_PER_MOMENT', 'AC_DIF_AVG_PER_MOMENT', \n",
    "# 'HOUR', 'MINUTE', 'DAY_OF_YEAR', 'DAY_OF_WEEK', 'MONTH', 'DAY_OF_MONTH']\n",
    "# now (67 features - the predicted feature)\n",
    "\n",
    "\n",
    "train_features = all_features1\n",
    "predict_column = 'DC_POWER'\n",
    "train_features = [x for x in train_features if x not in [predict_column] ]\n",
    "\n",
    "np.random.seed(1111)\n",
    "lr = LinearRegression()#normalize=True\n",
    "\n",
    "# fit the model\n",
    "lr.fit(train[train_features], train[[predict_column]])\n",
    "#print(summary(lr.fit(train[train_features], train[[predict_column]])))\n",
    "\n",
    "# learnt weights\n",
    "for i in range(len(train_features)):\n",
    "    print(f'[ {lr.coef_[0][i]},     {train_features[i]} ]')\n",
    "print(f'[{lr.intercept_}]')"
   ]
  },
  {
   "cell_type": "code",
   "execution_count": 155,
   "metadata": {},
   "outputs": [
    {
     "name": "stdout",
     "output_type": "stream",
     "text": [
      "0.9913847370978394\n",
      "26.821045434323004\n",
      "26.821045434323004\n"
     ]
    }
   ],
   "source": [
    "test_predictions = lr.predict(test[train_features])\n",
    "\n",
    "# R^2 score\n",
    "r2 = r2_score( test[[predict_column]] , test_predictions )\n",
    "print(r2)\n",
    "\n",
    "# RMSE\n",
    "rmse = mean_squared_error( test[[predict_column]] , test_predictions, squared=False)\n",
    "print(rmse)\n",
    "# MAE\n",
    "mae = mean_absolute_error( test[[predict_column]] , test_predictions )\n",
    "print(mae)"
   ]
  },
  {
   "cell_type": "code",
   "execution_count": null,
   "metadata": {},
   "outputs": [],
   "source": []
  },
  {
   "cell_type": "markdown",
   "metadata": {},
   "source": [
    "#### Plant 1\n",
    "\n",
    "##### With LR(normalize=False)\n",
    "Used features: DC_POWER_DIF_AVG_PER_ALL\n",
    "\n",
    "RMSE: 767.48207281644\n",
    "\n",
    " MAE: 767.4820728164401\n",
    "\n",
    " R^2:   0.9477802249173171\n",
    " \n",
    "##### With LR(normalize=True)\n",
    "Used features: DC_POWER, DC_POWER_DIF_AVG_PER_ALL, DAY_OF_YEAR, MONTH, DAY_OF_MONTH (AC_POWER,AC_POWER_DIF_AVG_PER_ALL)\n",
    "\n",
    "RMSE: 767.4820728164718\n",
    "\n",
    "MAE: 767.4820728164718\n",
    "\n",
    "R^2:   0.9477802249173128"
   ]
  },
  {
   "cell_type": "markdown",
   "metadata": {},
   "source": [
    "#### Plant 2\n",
    "\n",
    "##### With LR(normalize=False)\n",
    "Used features: 'DC_POWER_DIF_AVG_PER_ALL'\n",
    "\n",
    "RMSE: 26.82104543432361\n",
    "\n",
    "MAE: 26.821045434323608\n",
    "\n",
    "R^2:   0.991384737097839\n",
    " \n",
    "##### With LR(normalize=True)\n",
    "Used features: DC_POWER, AC_POWER???, DC_POWER_DIF_AVG_PER_ALL, DAY_OF_YEAR, MONTH, DAY_OF_MONTH\n",
    "\n",
    "RMSE: 26.82104543432103\n",
    "\n",
    "MAE: 26.82104543432103\n",
    "\n",
    "R^2:   0.9913847370978407"
   ]
  },
  {
   "cell_type": "markdown",
   "metadata": {},
   "source": [
    "##### Results before (faulty)"
   ]
  },
  {
   "cell_type": "markdown",
   "metadata": {},
   "source": [
    "RMSE when predicting AC POWER in Plant 1 : 335.74 -> 48.61 ---> RMSE: 0.355   MAE: 0.267\n",
    "\n",
    "RMSE when predicting DC POWER in Plant 1 : 3433.54 -> 495.67 ---> RMSE: 3.625   MAE: 2.725"
   ]
  },
  {
   "cell_type": "markdown",
   "metadata": {},
   "source": [
    "RMSE when predicting AC POWER in Plant 2 : 289.39 -> 177.05 ---> RMSE: 0.251   MAE: 0.234\n",
    "\n",
    "RMSE when predicting DC POWER in Plant 2 : 295.81 -> 180.86 ---> RMSE: 0.257   MAE: 0.240"
   ]
  },
  {
   "cell_type": "markdown",
   "metadata": {},
   "source": [
    "#### Log regression"
   ]
  },
  {
   "cell_type": "markdown",
   "metadata": {},
   "source": [
    "!  Not valid, because it's a classifier and we need to predict a variable with a continuous value  !"
   ]
  },
  {
   "cell_type": "code",
   "execution_count": 13,
   "metadata": {},
   "outputs": [],
   "source": [
    "from sklearn.linear_model import LogisticRegression \n",
    "lab_enc = preprocessing.LabelEncoder()"
   ]
  },
  {
   "cell_type": "code",
   "execution_count": 68,
   "metadata": {},
   "outputs": [],
   "source": [
    "# Trial dataset\n",
    "\n",
    "#train22 = train2[:5000]\n",
    "#test22 = test2[:1000]\n",
    "\n",
    "#train22 = preprocessing.scale(train22)\n",
    "#test22 = preprocessing.scale(test22)"
   ]
  },
  {
   "cell_type": "code",
   "execution_count": 14,
   "metadata": {},
   "outputs": [
    {
     "name": "stdout",
     "output_type": "stream",
     "text": [
      "Accuracy of LOG 69.34046345811052%\n"
     ]
    }
   ],
   "source": [
    "train = train1[:9000]\n",
    "test = test1\n",
    "\n",
    "train_features = ['HOUR','MINUTE','DAY_OF_YEAR','DAY_OF_WEEK','MONTH','DAY_OF_MONTH']\n",
    "predict_column = 'AC_POWER'\n",
    "\n",
    "logr = LogisticRegression(solver='lbfgs', max_iter=1000)\n",
    "\n",
    "train_pred = lab_enc.fit_transform(preprocessing.scale( train[predict_column] ))\n",
    "\n",
    "# FIT\n",
    "logr.fit(preprocessing.scale( train[train_features] ), train_pred)\n",
    "# test22.loc['logr'] = logr.predict(test22[train_features])\n",
    "\n",
    "test_pred = lab_enc.fit_transform(preprocessing.scale( test[predict_column] ))\n",
    "\n",
    "print(f\"Accuracy of LOG {logr.score(preprocessing.scale( test[train_features] ), test_pred )*100}%\")"
   ]
  },
  {
   "cell_type": "code",
   "execution_count": 17,
   "metadata": {},
   "outputs": [
    {
     "name": "stdout",
     "output_type": "stream",
     "text": [
      "1339.8456528489367\n"
     ]
    }
   ],
   "source": [
    "# RMSE\n",
    "print(np.sqrt(metrics.mean_squared_error( test[[predict_column]] , test_pred )))"
   ]
  },
  {
   "cell_type": "markdown",
   "metadata": {},
   "source": [
    "Accuracy of predicting AC POWER in Plant 1 : 69.34046345811052 % (with training data length 9000)\n",
    "\n",
    "RMSE : 1339.85\n",
    "\n",
    "Accuracy of predicting DC POWER in Plant 1 : 69.34046345811052 % (with training data length 9000)\n",
    "\n",
    "RMSE : 2011.80"
   ]
  },
  {
   "cell_type": "markdown",
   "metadata": {},
   "source": [
    "Accuracy of predicting AC POWER in Plant 2 : 50.32308377896613 % (with training data length 9000)\n",
    "\n",
    "RMSE : 3193.82\n",
    "\n",
    "Accuracy of predicting DC POWER in Plant 2 : 50.32308377896613 % (with training data length 9000)\n",
    "\n",
    "RMSE : 3194.76"
   ]
  }
 ],
 "metadata": {
  "kernelspec": {
   "display_name": "Python 3",
   "language": "python",
   "name": "python3"
  },
  "language_info": {
   "codemirror_mode": {
    "name": "ipython",
    "version": 3
   },
   "file_extension": ".py",
   "mimetype": "text/x-python",
   "name": "python",
   "nbconvert_exporter": "python",
   "pygments_lexer": "ipython3",
   "version": "3.8.3"
  }
 },
 "nbformat": 4,
 "nbformat_minor": 4
}
