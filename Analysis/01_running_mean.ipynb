{
 "cells": [
  {
   "cell_type": "code",
   "execution_count": 2,
   "metadata": {},
   "outputs": [],
   "source": [
    "from sklearn.metrics import mean_squared_error\n",
    "import pandas as pd\n",
    "import numpy as np"
   ]
  },
  {
   "cell_type": "code",
   "execution_count": 17,
   "outputs": [
    {
     "name": "stdout",
     "output_type": "stream",
     "text": [
      "\n",
      "#PLANT 1\n",
      "   DAY_OF_YEAR  DC_POWER_SUM  PREDICTED_DC_POWER_SUM\n",
      "0          162  5.784040e+06            7.193523e+06\n",
      "1          163  5.045679e+06            6.829388e+06\n",
      "2          164  5.222354e+06            6.021242e+06\n",
      "3          165  7.593776e+06            5.350691e+06\n",
      "4          166  6.350495e+06            5.953936e+06\n",
      "5          167  6.055536e+06            6.388875e+06\n",
      "6          168  5.572501e+06            6.666602e+06\n",
      "7          169  5.317780e+06            5.992844e+06\n",
      "daily predictions:\n",
      " RMSE:1262887.0; MAE:1091779.0; R2:-1.6938\n",
      "individual measurements:\n",
      " RMSE:1682.0; MAE:870.0; R2:0.78959\n",
      "\n",
      "#PLANT 2\n",
      "   DAY_OF_YEAR   DC_POWER_SUM  PREDICTED_DC_POWER_SUM\n",
      "0          162  393589.770390           543879.961868\n",
      "1          163  342752.854139           517316.908030\n",
      "2          164  411233.862857           430123.237859\n",
      "3          165  455305.790476           382525.495795\n",
      "4          166  505911.451905           403097.502491\n",
      "5          167  410998.909524           457483.701746\n",
      "6          168  480810.068571           457405.383968\n",
      "7          169  380211.240476           465906.810000\n",
      "daily predictions:\n",
      " RMSE:99585.0; MAE:84365.0; R2:-2.83702\n",
      "individual measurements:\n",
      " RMSE:222.0; MAE:116.0; R2:0.40737\n"
     ]
    }
   ],
   "source": [
    "from calculate_model_statistics import calculate_RMSE_MSE\n",
    "\n",
    "def create_features(in_data):\n",
    "    in_data['DATE_TIME'] = pd.to_datetime(in_data['DATE_TIME'])\n",
    "    in_data[\"DATE\"] = in_data['DATE_TIME'].dt.date\n",
    "    in_data[\"HOUR\"] = in_data['DATE_TIME'].dt.hour\n",
    "    in_data[\"MINUTE\"] = in_data['DATE_TIME'].dt.minute\n",
    "    in_data[\"DAY_OF_YEAR\"] = in_data['DATE_TIME'].dt.dayofyear\n",
    "    in_data[\"DAY_OF_WEEK\"] = in_data['DATE_TIME'].dt.dayofweek\n",
    "    in_data[\"MONTH\"] = in_data['DATE_TIME'].dt.month\n",
    "    in_data[\"DAY_OF_MONTH\"] = in_data['DATE_TIME'].dt.day\n",
    "predict_column = 'DC_POWER'\n",
    "\n",
    "#PERFORMANCE VALIDATION ON TEST DATA\n",
    "test_data1 = pd.read_csv('../Data/Test_Plant1_added_features.csv')\n",
    "test_data2 = pd.read_csv('../Data/Test_Plant2_added_features.csv')\n",
    " \n",
    "#BEST 2 plant model\n",
    "#No training\n",
    "\n",
    "#DO DATA PREP FOR TRAIN\n",
    "#no prep\n",
    "\n",
    "#TRAIN BEST MODEL AGAIN\n",
    "#No model\n",
    "\n",
    "#CREATE TEST_DATA FEATURES\n",
    "create_features(test_data1)\n",
    "create_features(test_data2)\n",
    "\n",
    "#DO TEST DATA PREDICTIONS\n",
    "test_predictions1 = np.mean(test_data1[['DC_POWER_PER_INVERTER_DAY_SHIFT_MINUS_1', 'DC_POWER_PER_INVERTER_DAY_SHIFT_MINUS_2', 'DC_POWER_PER_INVERTER_DAY_SHIFT_MINUS_3']], axis = 1)\n",
    "test_predictions2 = np.mean(test_data2[['DC_POWER_PER_INVERTER_DAY_SHIFT_MINUS_1', 'DC_POWER_PER_INVERTER_DAY_SHIFT_MINUS_2', 'DC_POWER_PER_INVERTER_DAY_SHIFT_MINUS_3']], axis = 1)\n",
    "\n",
    "#INDIVIDUAL PERIODS PREDICTIONS\n",
    "print('\\n#PLANT 1')\n",
    "calculate_RMSE_MSE(test_data1, predict_column, test_predictions1)\n",
    "\n",
    "print('\\n#PLANT 2')\n",
    "calculate_RMSE_MSE(test_data2, predict_column, test_predictions2)"
   ],
   "metadata": {
    "collapsed": false,
    "pycharm": {
     "name": "#%%\n"
    }
   }
  },
  {
   "cell_type": "code",
   "execution_count": null,
   "outputs": [],
   "source": [],
   "metadata": {
    "collapsed": false,
    "pycharm": {
     "name": "#%%\n"
    }
   }
  }
 ],
 "metadata": {
  "kernelspec": {
   "name": "pycharm-2b80f54b",
   "language": "python",
   "display_name": "PyCharm (ML2020-p26)"
  },
  "language_info": {
   "codemirror_mode": {
    "name": "ipython",
    "version": 3
   },
   "file_extension": ".py",
   "mimetype": "text/x-python",
   "name": "python",
   "nbconvert_exporter": "python",
   "pygments_lexer": "ipython3",
   "version": "3.8.3"
  }
 },
 "nbformat": 4,
 "nbformat_minor": 2
}