{
 "cells": [
  {
   "cell_type": "code",
   "execution_count": 1,
   "metadata": {},
   "outputs": [],
   "source": [
    "from sklearn.metrics import mean_squared_error\n",
    "import pandas as pd\n",
    "import numpy as np"
   ]
  },
  {
   "cell_type": "code",
   "execution_count": 2,
   "outputs": [
    {
     "name": "stdout",
     "output_type": "stream",
     "text": [
      "\n",
      "#PLANT 1\n",
      "daily predictions:\n",
      " RMSE - 4526646363222.0; MAE - 1361016.0\n",
      "individual measurements:\n",
      " RMSE - 4469136.0; MAE - 940.0\n",
      "\n",
      "#PLANT 2\n",
      "daily predictions:\n",
      " RMSE - 34958148529.0; MAE - 133949.0\n",
      "individual measurements:\n",
      " RMSE - 57728.0; MAE - 132.0\n"
     ]
    }
   ],
   "source": [
    "from calculate_model_statistics import calculate_RMSE_MSE\n",
    "\n",
    "def create_features(in_data):\n",
    "    in_data['DATE_TIME'] = pd.to_datetime(in_data['DATE_TIME'])\n",
    "    in_data[\"DATE\"] = in_data['DATE_TIME'].dt.date\n",
    "    in_data[\"HOUR\"] = in_data['DATE_TIME'].dt.hour\n",
    "    in_data[\"MINUTE\"] = in_data['DATE_TIME'].dt.minute\n",
    "    in_data[\"DAY_OF_YEAR\"] = in_data['DATE_TIME'].dt.dayofyear\n",
    "    in_data[\"DAY_OF_WEEK\"] = in_data['DATE_TIME'].dt.dayofweek\n",
    "    in_data[\"MONTH\"] = in_data['DATE_TIME'].dt.month\n",
    "    in_data[\"DAY_OF_MONTH\"] = in_data['DATE_TIME'].dt.day\n",
    "predict_column = 'DC_POWER'\n",
    "\n",
    "#PERFORMANCE VALIDATION ON TEST DATA\n",
    "test_data1 = pd.read_csv('../Data/Train_Plant1_added_features.csv')\n",
    "test_data2 = pd.read_csv('../Data/Test_Plant2_added_features.csv')\n",
    " \n",
    "#BEST 2 plant model\n",
    "#No training\n",
    "\n",
    "#DO DATA PREP FOR TRAIN\n",
    "#no prep\n",
    "\n",
    "#TRAIN BEST MODEL AGAIN\n",
    "#No model\n",
    "\n",
    "#CREATE TEST_DATA FEATURES\n",
    "create_features(test_data1)\n",
    "create_features(test_data2)\n",
    "\n",
    "#DO TEST DATA PREDICTIONS\n",
    "test_predictions1 = np.mean(test_data1[['DC_POWER_PER_INVERTER_DAY_SHIFT_MINUS_1', 'DC_POWER_PER_INVERTER_DAY_SHIFT_MINUS_2', 'DC_POWER_PER_INVERTER_DAY_SHIFT_MINUS_3']], axis = 1)\n",
    "test_predictions2 = np.mean(test_data2[['DC_POWER_PER_INVERTER_DAY_SHIFT_MINUS_1', 'DC_POWER_PER_INVERTER_DAY_SHIFT_MINUS_2', 'DC_POWER_PER_INVERTER_DAY_SHIFT_MINUS_3']], axis = 1)\n",
    "\n",
    "#INDIVIDUAL PERIODS PREDICTIONS\n",
    "print('\\n#PLANT 1')\n",
    "calculate_RMSE_MSE(test_data1, predict_column, test_predictions1)\n",
    "\n",
    "print('\\n#PLANT 2')\n",
    "calculate_RMSE_MSE(test_data2, predict_column, test_predictions2)"
   ],
   "metadata": {
    "collapsed": false,
    "pycharm": {
     "name": "#%%\n"
    }
   }
  },
  {
   "cell_type": "code",
   "execution_count": null,
   "outputs": [],
   "source": [],
   "metadata": {
    "collapsed": false,
    "pycharm": {
     "name": "#%%\n"
    }
   }
  }
 ],
 "metadata": {
  "kernelspec": {
   "name": "pycharm-2b80f54b",
   "language": "python",
   "display_name": "PyCharm (ML2020-p26)"
  },
  "language_info": {
   "codemirror_mode": {
    "name": "ipython",
    "version": 3
   },
   "file_extension": ".py",
   "mimetype": "text/x-python",
   "name": "python",
   "nbconvert_exporter": "python",
   "pygments_lexer": "ipython3",
   "version": "3.8.3"
  }
 },
 "nbformat": 4,
 "nbformat_minor": 2
}